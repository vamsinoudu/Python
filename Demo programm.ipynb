{
 "cells": [
  {
   "cell_type": "code",
   "execution_count": 4,
   "id": "ec8b8653",
   "metadata": {},
   "outputs": [
    {
     "name": "stdout",
     "output_type": "stream",
     "text": [
      "Hi how are  you\n",
      "<class 'str'>\n"
     ]
    }
   ],
   "source": [
    "# 6*3                         #  pound sign ,    str\n",
    "a = \"Hi how are  you\"\n",
    "print(a)\n",
    "print(type(a))"
   ]
  },
  {
   "cell_type": "code",
   "execution_count": 3,
   "id": "0e7b05fd",
   "metadata": {
    "scrolled": true
   },
   "outputs": [
    {
     "name": "stdout",
     "output_type": "stream",
     "text": [
      "20000\n",
      "<class 'int'>\n"
     ]
    }
   ],
   "source": [
    "num1 = 100                    #int\n",
    "num2 = 200\n",
    "print(num1*num2)\n",
    "print(type(num1*num2))"
   ]
  },
  {
   "cell_type": "code",
   "execution_count": 5,
   "id": "718756de",
   "metadata": {},
   "outputs": [
    {
     "name": "stdout",
     "output_type": "stream",
     "text": [
      "Brother creating mess\n",
      "<class 'str'>\n"
     ]
    }
   ],
   "source": [
    "Hari = \"Brother creating mess\"          #str\n",
    "print(Hari)\n",
    "print(type(Hari))"
   ]
  },
  {
   "cell_type": "code",
   "execution_count": 6,
   "id": "8f193869",
   "metadata": {},
   "outputs": [
    {
     "name": "stdout",
     "output_type": "stream",
     "text": [
      " hey your are learning python programme ,thats great \n",
      "<class 'str'>\n"
     ]
    }
   ],
   "source": [
    "B = \"\"\" hey your are learning python programme ,thats great \"\"\"      #str\n",
    "print(B)\n",
    "print(type(B))"
   ]
  },
  {
   "cell_type": "code",
   "execution_count": null,
   "id": "81d3b2ca",
   "metadata": {},
   "outputs": [],
   "source": [
    "''' yeah python will help to my carrer to switch for best      # comment for mulitple lines single codes \n",
    "may it will take lots of \n",
    "time to learn but trust me it`s worth'''\n"
   ]
  },
  {
   "cell_type": "code",
   "execution_count": 7,
   "id": "dd3b8e36",
   "metadata": {},
   "outputs": [
    {
     "name": "stdout",
     "output_type": "stream",
     "text": [
      "nice joke \n",
      "<class 'str'>\n",
      "<class 'str'>\n",
      "<class 'int'>\n",
      "345345345345345345345345345345345345345345345345345345345345345345345345345345345345345345345345345345345345345345345345345345345345345345345345345345345345345345345345345345345345345345345345345345345345345345345345345345345345345345345345345345345345345345345345345345345345345345345345345345345345345345345345345345345345345345345345345345345345345345345345345345345345345345345345345345345345345345345345345345345345345345345\n",
      "<class 'complex'>\n"
     ]
    }
   ],
   "source": [
    "a = 'nice'                                         # str , int , complex\n",
    "b = 'joke '\n",
    "print(a,b)\n",
    "print(type(a))\n",
    "c = '345'\n",
    "print(type(c))\n",
    "d = 143\n",
    "print(type(d))\n",
    "print(d*c)\n",
    "z = 3+5j\n",
    "print(type(z))\n"
   ]
  },
  {
   "cell_type": "code",
   "execution_count": 8,
   "id": "0bbdfae9",
   "metadata": {},
   "outputs": [
    {
     "name": "stdout",
     "output_type": "stream",
     "text": [
      "3.0\n",
      "<class 'float'>\n",
      "12.600000000000001\n"
     ]
    }
   ],
   "source": [
    "a = 3.0                                             #float\n",
    "b = 4.2\n",
    "print(a)\n",
    "print(type(a))\n",
    "print(a*b)\n"
   ]
  },
  {
   "cell_type": "code",
   "execution_count": 9,
   "id": "72420bbd",
   "metadata": {},
   "outputs": [
    {
     "name": "stdout",
     "output_type": "stream",
     "text": [
      "<class 'list'>\n",
      "['Apple', 'Orange', 'kiwe']\n",
      "('school', 'bus', 'class')\n",
      "<class 'tuple'>\n",
      "{'love', 'Affection', 'lust'}\n",
      "<class 'set'>\n"
     ]
    }
   ],
   "source": [
    "a = [\"Apple\",\"Orange\",\"kiwe\"]                           # list , tuple , set\n",
    "print(type(a))\n",
    "print(a)\n",
    "b = ('school','bus','class')\n",
    "print(b)\n",
    "print(type(b))\n",
    "c = {\"love\",\"Affection\",\"lust\"}\n",
    "print(c)\n",
    "print(type(c))\n"
   ]
  },
  {
   "cell_type": "code",
   "execution_count": 11,
   "id": "25315e49",
   "metadata": {},
   "outputs": [
    {
     "name": "stdout",
     "output_type": "stream",
     "text": [
      "2957549658768\n",
      "<class 'int'>\n"
     ]
    }
   ],
   "source": [
    "a = 200                            # memorey location id()        int\n",
    "print(id(a))\n",
    "print(type(id(a)))"
   ]
  },
  {
   "cell_type": "code",
   "execution_count": 12,
   "id": "030023f4",
   "metadata": {},
   "outputs": [
    {
     "name": "stdout",
     "output_type": "stream",
     "text": [
      "102\n"
     ]
    }
   ],
   "source": [
    "import sys                  # size of the line or length \n",
    "b = 200\n",
    "print(sys.getsizeof(B))"
   ]
  },
  {
   "cell_type": "code",
   "execution_count": 13,
   "id": "710dbd34",
   "metadata": {},
   "outputs": [
    {
     "name": "stdout",
     "output_type": "stream",
     "text": [
      "['False', 'None', 'True', '__peg_parser__', 'and', 'as', 'assert', 'async', 'await', 'break', 'class', 'continue', 'def', 'del', 'elif', 'else', 'except', 'finally', 'for', 'from', 'global', 'if', 'import', 'in', 'is', 'lambda', 'nonlocal', 'not', 'or', 'pass', 'raise', 'return', 'try', 'while', 'with', 'yield']\n"
     ]
    }
   ],
   "source": [
    "import keyword                                    #  python key words\n",
    "print(keyword.kwlist)                             #total 35 words"
   ]
  },
  {
   "cell_type": "code",
   "execution_count": null,
   "id": "93894ed0",
   "metadata": {},
   "outputs": [],
   "source": [
    "'''                                               # comment for multiple lines\n",
    "Hey\n",
    "man\n",
    "how \n",
    "did\n",
    "you acheive\n",
    "'''\n",
    "80*2\n"
   ]
  },
  {
   "cell_type": "code",
   "execution_count": null,
   "id": "a871bdff",
   "metadata": {
    "scrolled": true
   },
   "outputs": [],
   "source": [
    "input( )                                              # input()\n",
    "\n",
    "\n"
   ]
  },
  {
   "cell_type": "code",
   "execution_count": null,
   "id": "23cb0641",
   "metadata": {},
   "outputs": [],
   "source": [
    "name = input(\"name: \")\n",
    "age = int( input(\"age: \"))\n",
    "salary = float( input(\"salary: \"))\n"
   ]
  },
  {
   "cell_type": "code",
   "execution_count": null,
   "id": "dd7d47af",
   "metadata": {},
   "outputs": [],
   "source": [
    "name = input(\"name: \")\n",
    "age = input(\"age: \")\n",
    "salary = input(\"salary: \")\n",
    "education = input(\"education: \")\n",
    "hobbies = input(\"hobbies: \")\n",
    "strength = input(\"strength: \")\n"
   ]
  },
  {
   "cell_type": "code",
   "execution_count": null,
   "id": "1b01fc54",
   "metadata": {},
   "outputs": [],
   "source": [
    "\n"
   ]
  },
  {
   "cell_type": "code",
   "execution_count": null,
   "id": "e3cc9e38",
   "metadata": {},
   "outputs": [],
   "source": []
  },
  {
   "cell_type": "code",
   "execution_count": null,
   "id": "8ee0e0a1",
   "metadata": {},
   "outputs": [],
   "source": []
  },
  {
   "cell_type": "code",
   "execution_count": null,
   "id": "ac8fb210",
   "metadata": {},
   "outputs": [],
   "source": []
  },
  {
   "cell_type": "code",
   "execution_count": null,
   "id": "cb0a36d3",
   "metadata": {},
   "outputs": [],
   "source": []
  },
  {
   "cell_type": "code",
   "execution_count": null,
   "id": "62303af0",
   "metadata": {},
   "outputs": [],
   "source": []
  },
  {
   "cell_type": "code",
   "execution_count": null,
   "id": "5c7b0950",
   "metadata": {},
   "outputs": [],
   "source": []
  },
  {
   "cell_type": "code",
   "execution_count": null,
   "id": "4506ab09",
   "metadata": {},
   "outputs": [],
   "source": []
  },
  {
   "cell_type": "code",
   "execution_count": null,
   "id": "07f709c6",
   "metadata": {},
   "outputs": [],
   "source": []
  },
  {
   "cell_type": "code",
   "execution_count": null,
   "id": "0cb559bf",
   "metadata": {},
   "outputs": [],
   "source": []
  },
  {
   "cell_type": "code",
   "execution_count": null,
   "id": "89226167",
   "metadata": {},
   "outputs": [],
   "source": []
  },
  {
   "cell_type": "code",
   "execution_count": null,
   "id": "e7547d2e",
   "metadata": {},
   "outputs": [],
   "source": []
  },
  {
   "cell_type": "code",
   "execution_count": null,
   "id": "c7d5a468",
   "metadata": {},
   "outputs": [],
   "source": []
  }
 ],
 "metadata": {
  "kernelspec": {
   "display_name": "Python 3 (ipykernel)",
   "language": "python",
   "name": "python3"
  },
  "language_info": {
   "codemirror_mode": {
    "name": "ipython",
    "version": 3
   },
   "file_extension": ".py",
   "mimetype": "text/x-python",
   "name": "python",
   "nbconvert_exporter": "python",
   "pygments_lexer": "ipython3",
   "version": "3.9.7"
  }
 },
 "nbformat": 4,
 "nbformat_minor": 5
}
