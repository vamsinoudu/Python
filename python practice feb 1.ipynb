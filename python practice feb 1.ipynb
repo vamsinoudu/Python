{
 "cells": [
  {
   "cell_type": "code",
   "execution_count": 2,
   "id": "35ab601b",
   "metadata": {},
   "outputs": [
    {
     "name": "stdout",
     "output_type": "stream",
     "text": [
      "feb batch 2022\n"
     ]
    }
   ],
   "source": [
    "stringname = \"feb batch 2022\"            # General operations\n",
    "print(stringname)    \n",
    "    "
   ]
  },
  {
   "cell_type": "code",
   "execution_count": 5,
   "id": "cbd0e39c",
   "metadata": {},
   "outputs": [
    {
     "name": "stdout",
     "output_type": "stream",
     "text": [
      "feb batch 2022feb batch 2022\n",
      "feb batch 2022feb batch 2022feb batch 2022\n"
     ]
    }
   ],
   "source": [
    "print(stringname *2)   #repeating strings only for int\n",
    "\n",
    "print(stringname * 3)   #repeating three times\n",
    "\n"
   ]
  },
  {
   "cell_type": "code",
   "execution_count": 6,
   "id": "f74661b5",
   "metadata": {},
   "outputs": [
    {
     "name": "stdout",
     "output_type": "stream",
     "text": [
      "14\n"
     ]
    }
   ],
   "source": [
    "print(len(stringname))       #length of the line in str"
   ]
  },
  {
   "cell_type": "code",
   "execution_count": 23,
   "id": "0fdae209",
   "metadata": {},
   "outputs": [
    {
     "ename": "NameError",
     "evalue": "name 'false' is not defined",
     "output_type": "error",
     "traceback": [
      "\u001b[1;31m---------------------------------------------------------------------------\u001b[0m",
      "\u001b[1;31mNameError\u001b[0m                                 Traceback (most recent call last)",
      "\u001b[1;32m~\\AppData\\Local\\Temp/ipykernel_10456/2898550404.py\u001b[0m in \u001b[0;36m<module>\u001b[1;34m\u001b[0m\n\u001b[1;32m----> 1\u001b[1;33m \u001b[0mprint\u001b[0m\u001b[1;33m(\u001b[0m\u001b[1;34m\"hello\"\u001b[0m \u001b[1;33m+\u001b[0m \u001b[1;34m\"man\"\u001b[0m \u001b[1;33m+\u001b[0m \u001b[0mfalse\u001b[0m\u001b[1;33m)\u001b[0m\u001b[1;33m\u001b[0m\u001b[1;33m\u001b[0m\u001b[0m\n\u001b[0m",
      "\u001b[1;31mNameError\u001b[0m: name 'false' is not defined"
     ]
    }
   ],
   "source": [
    "print(\"hello\" + \"man\" + false)   # we cannot use boolean"
   ]
  },
  {
   "cell_type": "code",
   "execution_count": 17,
   "id": "714704de",
   "metadata": {},
   "outputs": [
    {
     "name": "stdout",
     "output_type": "stream",
     "text": [
      "feb batch 2022\n",
      "14\n",
      "b\n",
      "e\n",
      "2\n",
      "f\n",
      "e\n",
      "f\n"
     ]
    }
   ],
   "source": [
    "print(stringname)                # indexing \n",
    "print(len(stringname))           # length\n",
    "print(stringname[2])             # stringname : [postion number]\n",
    "print(stringname[1])             # postion\n",
    "print(stringname[13])            # postions starts from 0 to 13\n",
    "print(stringname[0])             # postion 0\n",
    "print(stringname[-13])           # postion in reverse mode [-]\n",
    "print(stringname[-14])           \n"
   ]
  },
  {
   "cell_type": "code",
   "execution_count": 21,
   "id": "6eaa60e4",
   "metadata": {},
   "outputs": [
    {
     "name": "stdout",
     "output_type": "stream",
     "text": [
      "Helloman100\n",
      "Hello man 100\n"
     ]
    }
   ],
   "source": [
    "print(\"Hello\" + \"man\" + str(100)  )           # concatenataion     using + operator\n",
    "print(\"Hello\", \"man\", 100)                    # merging 2 or more words\n"
   ]
  },
  {
   "cell_type": "code",
   "execution_count": 28,
   "id": "8c404700",
   "metadata": {},
   "outputs": [
    {
     "name": "stdout",
     "output_type": "stream",
     "text": [
      "feb batch 2022\n",
      "bb\n",
      "ABB\n",
      "AAAB\n"
     ]
    }
   ],
   "source": [
    "print(stringname)\n",
    "print(stringname[4]*2)                        # repeating the character \n",
    "print('A' + 'B'*2)\n",
    "print(3*'A' + 'B')"
   ]
  },
  {
   "cell_type": "code",
   "execution_count": 12,
   "id": "53cd6978",
   "metadata": {},
   "outputs": [
    {
     "name": "stdout",
     "output_type": "stream",
     "text": [
      "feb month\n",
      "9\n",
      "eb month\n",
      "b mon\n",
      "fbm\n",
      "\n"
     ]
    }
   ],
   "source": [
    "stringname = \"feb month\"              # slicing \n",
    "print(stringname)\n",
    "print(len(stringname))\n",
    "print(stringname[1 : 9])\n",
    "print(stringname[2 : 7])\n",
    "print(stringname[:5:2])\n",
    "print(stringname[2:1])"
   ]
  },
  {
   "cell_type": "code",
   "execution_count": 15,
   "id": "8d995c17",
   "metadata": {},
   "outputs": [
    {
     "name": "stdout",
     "output_type": "stream",
     "text": [
      "\n",
      "eb m\n",
      "f\n"
     ]
    }
   ],
   "source": [
    "print(stringname[3:1])\n",
    "print(stringname[1:5])\n",
    "print(stringname[:5:7])"
   ]
  },
  {
   "cell_type": "code",
   "execution_count": 25,
   "id": "5d5505f7",
   "metadata": {},
   "outputs": [
    {
     "name": "stdout",
     "output_type": "stream",
     "text": [
      "feb month\n",
      "b month\n",
      " month\n",
      "feb \n",
      "feb m\n",
      "fo\n",
      "\n"
     ]
    }
   ],
   "source": [
    "print(stringname[  : ])                        # shows full comment\n",
    "\n",
    "print(stringname[2 : ])\n",
    "print(stringname[3  :  ])\n",
    "print(stringname[  : 4 ])\n",
    "print(stringname[  : 5 ])\n",
    "print(stringname[ :  : 5])\n"
   ]
  },
  {
   "cell_type": "code",
   "execution_count": 24,
   "id": "f96eefdc",
   "metadata": {},
   "outputs": [
    {
     "name": "stdout",
     "output_type": "stream",
     "text": [
      "feb month\n"
     ]
    }
   ],
   "source": [
    "print(stringname[  : 100 ])             #still it will print in this sequence "
   ]
  },
  {
   "cell_type": "code",
   "execution_count": 28,
   "id": "3bfbe6a5",
   "metadata": {},
   "outputs": [
    {
     "name": "stdout",
     "output_type": "stream",
     "text": [
      "htn\n"
     ]
    }
   ],
   "source": [
    "print(stringname[-1 : -4 : -1])          # reverse side [-]"
   ]
  },
  {
   "cell_type": "code",
   "execution_count": 35,
   "id": "b924c210",
   "metadata": {},
   "outputs": [
    {
     "name": "stdout",
     "output_type": "stream",
     "text": [
      "feb month\n",
      "feb month\n",
      "htnom bef\n"
     ]
    }
   ],
   "source": [
    "print(stringname)\n",
    "print(stringname[  :  : 1])          # starts from zero to end of the seq\n",
    "print(stringname[ : : -1])            # start from end seq  to zero "
   ]
  },
  {
   "cell_type": "code",
   "execution_count": 37,
   "id": "16c8458a",
   "metadata": {},
   "outputs": [
    {
     "name": "stdout",
     "output_type": "stream",
     "text": [
      "fbmnh\n",
      "hnmbf\n"
     ]
    }
   ],
   "source": [
    "print(stringname[ : : 2])               # starts from zero to end of the seq\n",
    "print(stringname[ : : -2])                # start from end seq  to zero"
   ]
  },
  {
   "cell_type": "code",
   "execution_count": 39,
   "id": "ce7a3e8a",
   "metadata": {},
   "outputs": [
    {
     "name": "stdout",
     "output_type": "stream",
     "text": [
      "enter word : vamshi\n",
      "not plain\n"
     ]
    }
   ],
   "source": [
    "# palindrom\n",
    "\n",
    "word = input(\"enter word : \")\n",
    "if word[ : : 1] == word[ :  : -1] :\n",
    "    print(\"plain\")\n",
    "else :\n",
    "    print(\"not plain\")"
   ]
  },
  {
   "cell_type": "code",
   "execution_count": 40,
   "id": "9f6091e7",
   "metadata": {},
   "outputs": [
    {
     "name": "stdout",
     "output_type": "stream",
     "text": [
      "enter word : naman\n",
      "plain\n"
     ]
    }
   ],
   "source": [
    "word = input(\"enter word : \")                  # palindrom\n",
    "if word[ : : 1] == word[ : : -1 ] :\n",
    "    print(\"plain\")\n",
    "else: \n",
    "    print(\"not plain\")"
   ]
  },
  {
   "cell_type": "code",
   "execution_count": 53,
   "id": "a30b1835",
   "metadata": {},
   "outputs": [
    {
     "name": "stdout",
     "output_type": "stream",
     "text": [
      "feb month\n",
      "feb month\n",
      "FEB MONTH\n",
      "['feb', 'month']\n",
      "Feb month\n",
      "feb month\n",
      "feb month\n",
      "Feb Month\n",
      "FEB MONTH\n"
     ]
    }
   ],
   "source": [
    "#change the cases of the string\n",
    "\n",
    "print(stringname)\n",
    "print(stringname.lower())\n",
    "print(stringname.upper())\n",
    "print(stringname.split())\n",
    "print(stringname.capitalize())\n",
    "print(stringname.casefold())\n",
    "print(stringname.strip())\n",
    "print(stringname.title())\n",
    "print(stringname.swapcase())"
   ]
  },
  {
   "cell_type": "code",
   "execution_count": 68,
   "id": "aca22419",
   "metadata": {},
   "outputs": [
    {
     "name": "stdout",
     "output_type": "stream",
     "text": [
      "                 Python practice in jupyter notebook                         \n",
      "['Python', 'practice', 'in', 'jupyter', 'notebook'] \t 5\n",
      "Python practice in jupyter notebook \t 35\n",
      "Python practice in jupyter notebook                          \t 60\n",
      "                 Python practice in jupyter notebook \t 52\n"
     ]
    }
   ],
   "source": [
    "# removing blank spaces from left or right\n",
    "\n",
    "msg = '                 Python practice in jupyter notebook                         '\n",
    "print(msg)\n",
    "\n",
    "print(msg.split(), \"\\t\",  len(msg.split()))                                      # split method , along with length\n",
    "\n",
    "print(msg.strip(),   \"\\t\",   len(msg.strip()))                                   # strip method , along with length\n",
    "\n",
    "print(msg.lstrip(),    \"\\t\",  len(msg.lstrip()))                                  # left side space  removed ,along with length\n",
    "\n",
    "print(msg.rstrip(),    \"\\t\",    len(msg.rstrip()))                                # right side space removed ,along with length\n",
    "\n"
   ]
  },
  {
   "cell_type": "code",
   "execution_count": 73,
   "id": "f02b5662",
   "metadata": {},
   "outputs": [
    {
     "name": "stdout",
     "output_type": "stream",
     "text": [
      "2\n",
      "3\n",
      "3\n"
     ]
    }
   ],
   "source": [
    "# count : return frequence of  char seq\n",
    "\n",
    "msg = \" hey buddy how you doing\"\n",
    "\n",
    "print(msg.count(\"u\"))          #counting number 'u' letters in the str\n",
    "\n",
    "print(msg.count(\"d\"))          #counting number 'd' letters in the str\n",
    "\n",
    "\n",
    "print(msg.count('o'))          #counting number 'o' letters in the str\n"
   ]
  },
  {
   "cell_type": "code",
   "execution_count": 79,
   "id": "edbee233",
   "metadata": {},
   "outputs": [
    {
     "name": "stdout",
     "output_type": "stream",
     "text": [
      "                Yusafguda bus stop                \n",
      "                                         Yusafguda bus stop                                         \n",
      " Yusafguda bus stop \n",
      "                               Yusafguda bus stop \n"
     ]
    }
   ],
   "source": [
    "# center\n",
    "\n",
    "msg = \" Yusafguda bus stop \"\n",
    "\n",
    "print(msg.center(50))\n",
    "\n",
    "print(msg.center(100))\n",
    "\n",
    "print(msg.ljust(20))\n",
    "\n",
    "print(msg.rjust(50))"
   ]
  },
  {
   "cell_type": "code",
   "execution_count": 80,
   "id": "b4084b3b",
   "metadata": {},
   "outputs": [
    {
     "name": "stdout",
     "output_type": "stream",
     "text": [
      " house no  : 50 , Delhi \n"
     ]
    }
   ],
   "source": [
    "# replace  : replace old str with new str\n",
    "\n",
    "msg1 = \" house no  : 50 , Hyderabad \"\n",
    "\n",
    "msg1.replace( \"Hyderabad\" , \"Delhi\")\n",
    "\n",
    "msg1 = msg1.replace( \"Hyderabad\" , \"Delhi\")\n",
    "\n",
    "print(msg1)\n"
   ]
  },
  {
   "cell_type": "code",
   "execution_count": 85,
   "id": "bb8decaa",
   "metadata": {},
   "outputs": [
    {
     "name": "stdout",
     "output_type": "stream",
     "text": [
      " house no  : 50 , Delhi \n",
      "18\n",
      "7\n",
      "1\n"
     ]
    }
   ],
   "source": [
    "# index or find\n",
    "\n",
    "print(msg1)\n",
    "\n",
    "print(msg1.find(\"Delhi\"))       # find\n",
    "print(msg1.index(\"no\"))         # index\n",
    "print(msg1.find(\"house\"))       \n"
   ]
  },
  {
   "cell_type": "code",
   "execution_count": 92,
   "id": "45b77893",
   "metadata": {},
   "outputs": [
    {
     "name": "stdout",
     "output_type": "stream",
     "text": [
      "once in blue moon\n",
      "True\n",
      "True\n"
     ]
    }
   ],
   "source": [
    "# Endswith , startswith\n",
    "\n",
    "\n",
    "sc = \"once in blue moon\"\n",
    "print(sc)\n",
    "print(sc.endswith(\"moon\"))    \n",
    "print(sc.startswith(\"once\"))"
   ]
  },
  {
   "cell_type": "code",
   "execution_count": null,
   "id": "01aa1abb",
   "metadata": {},
   "outputs": [],
   "source": []
  },
  {
   "cell_type": "code",
   "execution_count": null,
   "id": "0f78b022",
   "metadata": {},
   "outputs": [],
   "source": []
  },
  {
   "cell_type": "code",
   "execution_count": null,
   "id": "923601e8",
   "metadata": {},
   "outputs": [],
   "source": []
  },
  {
   "cell_type": "code",
   "execution_count": null,
   "id": "95114223",
   "metadata": {},
   "outputs": [],
   "source": []
  },
  {
   "cell_type": "code",
   "execution_count": null,
   "id": "a5b01172",
   "metadata": {},
   "outputs": [],
   "source": []
  },
  {
   "cell_type": "code",
   "execution_count": null,
   "id": "ffa249b3",
   "metadata": {},
   "outputs": [],
   "source": []
  },
  {
   "cell_type": "code",
   "execution_count": null,
   "id": "5eeb26f6",
   "metadata": {},
   "outputs": [],
   "source": []
  },
  {
   "cell_type": "code",
   "execution_count": null,
   "id": "1e2af261",
   "metadata": {},
   "outputs": [],
   "source": []
  }
 ],
 "metadata": {
  "kernelspec": {
   "display_name": "Python 3 (ipykernel)",
   "language": "python",
   "name": "python3"
  },
  "language_info": {
   "codemirror_mode": {
    "name": "ipython",
    "version": 3
   },
   "file_extension": ".py",
   "mimetype": "text/x-python",
   "name": "python",
   "nbconvert_exporter": "python",
   "pygments_lexer": "ipython3",
   "version": "3.9.7"
  }
 },
 "nbformat": 4,
 "nbformat_minor": 5
}
